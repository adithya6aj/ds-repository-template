{
 "cells": [
  {
   "cell_type": "code",
   "execution_count": null,
   "id": "2dfc9293",
   "metadata": {},
   "outputs": [],
   "source": [
    "import pandas as pd\n",
    "from databricks import sdk\n",
    "from databricks.sdk.runtime import dbutils  # For Databricks utilities\n",
    "from pyspark.sql import SparkS"
   ]
  },
  {
   "cell_type": "code",
   "execution_count": null,
   "id": "7ca2488c",
   "metadata": {},
   "outputs": [],
   "source": [
    "# Create a sample Iris DataFrame\n",
    "data = {\n",
    "    'sepal_length': [5.1, 4.9, 4.7, 4.6, 5.0, 7.0, 6.4, 6.9, 5.5, 6.5],\n",
    "    'sepal_width': [3.5, 3.0, 3.2, 3.1, 3.6, 3.2, 3.2, 3.1, 2.3, 2.8],\n",
    "    'petal_length': [1.4, 1.4, 1.3, 1.5, 1.4, 4.7, 4.5, 4.9, 4.0, 4.6],\n",
    "    'petal_width': [0.2, 0.2, 0.2, 0.2, 0.2, 1.4, 1.5, 1.5, 1.3, 1.5],\n",
    "    'species': ['setosa', 'setosa', 'setosa', 'setosa', 'setosa', 'versicolor', 'versicolor', 'versicolor', 'versicolor', 'versicolor']\n",
    "}\n",
    "iris_df = pd.DataFrame(data)\n",
    "\n",
    "# Convert Pandas DataFrame to Spark DataFrame (Databricks context)\n",
    "spark_df = spark.createDataFrame(iris_df)\n",
    "\n",
    "# Define a Delta Lake path to store the ingested data\n",
    "ingested_data_path = \"/mnt/my_delta_lake/iris_ingested\" # Replace with your desired path\n",
    "\n",
    "# Write the Spark DataFrame to Delta Lake\n",
    "spark_df.write.format(\"delta\").mode(\"overwrite\").save(ingested_data_path)\n",
    "\n",
    "print(f\"Ingested data saved to: {ingested_data_path}\")"
   ]
  }
 ],
 "metadata": {
  "kernelspec": {
   "display_name": "Python 3",
   "language": "python",
   "name": "python3"
  },
  "language_info": {
   "name": "python",
   "version": "3.11.5"
  }
 },
 "nbformat": 4,
 "nbformat_minor": 5
}
