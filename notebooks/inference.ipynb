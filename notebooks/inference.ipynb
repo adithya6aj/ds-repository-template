{
 "cells": [
  {
   "cell_type": "code",
   "execution_count": null,
   "id": "1075fa66",
   "metadata": {},
   "outputs": [],
   "source": [
    "from pyspark.sql import SparkSession\n",
    "from pyspark.ml import PipelineModel\n",
    "from pyspark.sql.types import StructType, StructField, FloatType, StringType\n"
   ]
  },
  {
   "cell_type": "code",
   "execution_count": null,
   "id": "160737a7",
   "metadata": {},
   "outputs": [],
   "source": [
    "# Get the SparkSession\n",
    "spark = SparkSession.builder.appName(\"IrisInference\").getOrCreate()\n",
    "\n",
    "# Define the path to the saved model\n",
    "model_path = \"/mnt/my_delta_lake/iris_model\" # Ensure this matches the training path\n",
    "\n",
    "# Load the trained model\n",
    "loaded_model = PipelineModel.load(model_path)\n",
    "\n",
    "# Define the schema for new data\n",
    "new_data_schema = StructType([\n",
    "    StructField(\"sepal_length\", FloatType(), True),\n",
    "    StructField(\"sepal_width\", FloatType(), True),\n",
    "    StructField(\"petal_length\", FloatType(), True),\n",
    "    StructField(\"petal_width\", FloatType(), True)\n",
    "])\n",
    "\n",
    "# Create a sample DataFrame for new data\n",
    "new_data = spark.createDataFrame(\n",
    "    [\n",
    "        (5.8, 2.7, 5.1, 1.9),\n",
    "        (6.3, 3.3, 6.0, 2.5),\n",
    "        (5.0, 3.4, 1.6, 0.4)\n",
    "    ],\n",
    "    new_data_schema\n",
    ")\n",
    "\n",
    "# Make predictions\n",
    "predictions = loaded_model.transform(new_data)\n",
    "\n",
    "# Show the predictions\n",
    "predictions.select(\"sepal_length\", \"sepal_width\", \"petal_length\", \"petal_width\", \"prediction\").show()\n",
    "\n",
    "# You might want to save the predictions to a Delta Lake table or another sink\n",
    "predictions_path = \"/mnt/my_delta_lake/iris_predictions\" # Replace with your desired path\n",
    "predictions.write.format(\"delta\").mode(\"overwrite\").save(predictions_path)\n",
    "\n",
    "print(f\"Predictions saved to: {predictions_path}\")\n",
    "\n",
    "spark.stop()"
   ]
  }
 ],
 "metadata": {
  "language_info": {
   "name": "python"
  }
 },
 "nbformat": 4,
 "nbformat_minor": 5
}
